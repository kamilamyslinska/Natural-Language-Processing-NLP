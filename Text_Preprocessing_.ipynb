{
  "nbformat": 4,
  "nbformat_minor": 0,
  "metadata": {
    "colab": {
      "provenance": [],
      "authorship_tag": "ABX9TyNyDDEWHs0Zw0UFzU9AKC8G",
      "include_colab_link": true
    },
    "kernelspec": {
      "name": "python3",
      "display_name": "Python 3"
    },
    "language_info": {
      "name": "python"
    }
  },
  "cells": [
    {
      "cell_type": "markdown",
      "metadata": {
        "id": "view-in-github",
        "colab_type": "text"
      },
      "source": [
        "<a href=\"https://colab.research.google.com/github/kamilamyslinska/Natural-Language-Processing-NLP/blob/main/Text_Preprocessing_.ipynb\" target=\"_parent\"><img src=\"https://colab.research.google.com/assets/colab-badge.svg\" alt=\"Open In Colab\"/></a>"
      ]
    },
    {
      "cell_type": "markdown",
      "source": [
        "##Text Preprocessing "
      ],
      "metadata": {
        "id": "w7kvSKRWVwSZ"
      }
    },
    {
      "cell_type": "markdown",
      "source": [
        "###Feature Extraction\n"
      ],
      "metadata": {
        "id": "_yRco-PWWXiH"
      }
    },
    {
      "cell_type": "code",
      "source": [
        "import requests \n",
        "import re\n",
        "import pandas as pd\n",
        "from matplotlib import pyplot as plt\n",
        "from random import randint\n",
        "import numpy as np\n",
        "import warnings\n",
        "warnings.filterwarnings(\"ignore\")\n",
        "\n",
        "%matplotlib inline"
      ],
      "metadata": {
        "id": "I3ixeeEictMV"
      },
      "execution_count": 24,
      "outputs": []
    },
    {
      "cell_type": "markdown",
      "source": [
        "####File loading\n",
        "The data comes from Instagram and concerns the Lodz-based clothing company Hexeline. These are data scraped from the company's public profile.\n"
      ],
      "metadata": {
        "id": "O9cJxZc7WYhE"
      }
    },
    {
      "cell_type": "code",
      "source": [
        "df = pd.read_csv('hashtaghexeline.csv')\n",
        "df.sample(3)"
      ],
      "metadata": {
        "colab": {
          "base_uri": "https://localhost:8080/",
          "height": 312
        },
        "id": "xZ4CZrYhYAKp",
        "outputId": "64cef391-df22-46dd-bb8c-98c9dd1b6675"
      },
      "execution_count": 2,
      "outputs": [
        {
          "output_type": "execute_result",
          "data": {
            "text/plain": [
              "                                      postUrl  \\\n",
              "531  https://www.instagram.com/p/B0tdceUBOD7/   \n",
              "260  https://www.instagram.com/p/CB6ASMZn-sQ/   \n",
              "530  https://www.instagram.com/p/B0wCSYTBgF9/   \n",
              "\n",
              "                                     profileUrl          username  fullName  \\\n",
              "531  https://www.instagram.com/hexelineofficial  hexelineofficial  HEXELINE   \n",
              "260  https://www.instagram.com/hexelineofficial  hexelineofficial  HEXELINE   \n",
              "530  https://www.instagram.com/hexelineofficial  hexelineofficial  HEXELINE   \n",
              "\n",
              "     commentCount likeCount                   pubDate  \\\n",
              "531             5        49  2019-08-03T17:31:51.000Z   \n",
              "260             1        32  2020-06-26T17:15:19.000Z   \n",
              "530             3        31  2019-08-04T17:34:42.000Z   \n",
              "\n",
              "                                           description location  \\\n",
              "531  Uwaga, czarujemy!🧚‍♀️⁠⠀\\n⁠⠀\\nZamknijcie oczy, ...      NaN   \n",
              "260  Zródłem stylu jest Twoje wnętrze, które najlep...      NaN   \n",
              "530  Macie takie słowo, które działa na Was jak zak...      NaN   \n",
              "\n",
              "                                                imgUrl        postId  \\\n",
              "531  https://scontent-lhr8-2.cdninstagram.com/v/t51...  2.102466e+18   \n",
              "260  https://scontent-lhr8-1.cdninstagram.com/v/t51...  2.340184e+18   \n",
              "530                                                NaN  2.103191e+18   \n",
              "\n",
              "          ownerId   type query                 timestamp isSidecar  \\\n",
              "531  1.371708e+09  Photo   NaN  2022-09-16T14:35:50.213Z     False   \n",
              "260  1.371708e+09  Photo   NaN  2022-09-16T14:35:13.032Z     False   \n",
              "530  1.371708e+09  Video   NaN  2022-09-16T14:35:50.213Z     False   \n",
              "\n",
              "     sidecarMedias                                           videoUrl  \\\n",
              "531            NaN                                                NaN   \n",
              "260            NaN                                                NaN   \n",
              "530            NaN  https://scontent-lhr8-1.cdninstagram.com/v/t50...   \n",
              "\n",
              "     viewCount  \n",
              "531        NaN  \n",
              "260        NaN  \n",
              "530      289.0  "
            ],
            "text/html": [
              "\n",
              "  <div id=\"df-3349e892-ada3-4560-9059-0f8563b56004\">\n",
              "    <div class=\"colab-df-container\">\n",
              "      <div>\n",
              "<style scoped>\n",
              "    .dataframe tbody tr th:only-of-type {\n",
              "        vertical-align: middle;\n",
              "    }\n",
              "\n",
              "    .dataframe tbody tr th {\n",
              "        vertical-align: top;\n",
              "    }\n",
              "\n",
              "    .dataframe thead th {\n",
              "        text-align: right;\n",
              "    }\n",
              "</style>\n",
              "<table border=\"1\" class=\"dataframe\">\n",
              "  <thead>\n",
              "    <tr style=\"text-align: right;\">\n",
              "      <th></th>\n",
              "      <th>postUrl</th>\n",
              "      <th>profileUrl</th>\n",
              "      <th>username</th>\n",
              "      <th>fullName</th>\n",
              "      <th>commentCount</th>\n",
              "      <th>likeCount</th>\n",
              "      <th>pubDate</th>\n",
              "      <th>description</th>\n",
              "      <th>location</th>\n",
              "      <th>imgUrl</th>\n",
              "      <th>postId</th>\n",
              "      <th>ownerId</th>\n",
              "      <th>type</th>\n",
              "      <th>query</th>\n",
              "      <th>timestamp</th>\n",
              "      <th>isSidecar</th>\n",
              "      <th>sidecarMedias</th>\n",
              "      <th>videoUrl</th>\n",
              "      <th>viewCount</th>\n",
              "    </tr>\n",
              "  </thead>\n",
              "  <tbody>\n",
              "    <tr>\n",
              "      <th>531</th>\n",
              "      <td>https://www.instagram.com/p/B0tdceUBOD7/</td>\n",
              "      <td>https://www.instagram.com/hexelineofficial</td>\n",
              "      <td>hexelineofficial</td>\n",
              "      <td>HEXELINE</td>\n",
              "      <td>5</td>\n",
              "      <td>49</td>\n",
              "      <td>2019-08-03T17:31:51.000Z</td>\n",
              "      <td>Uwaga, czarujemy!🧚‍♀️⁠⠀\\n⁠⠀\\nZamknijcie oczy, ...</td>\n",
              "      <td>NaN</td>\n",
              "      <td>https://scontent-lhr8-2.cdninstagram.com/v/t51...</td>\n",
              "      <td>2.102466e+18</td>\n",
              "      <td>1.371708e+09</td>\n",
              "      <td>Photo</td>\n",
              "      <td>NaN</td>\n",
              "      <td>2022-09-16T14:35:50.213Z</td>\n",
              "      <td>False</td>\n",
              "      <td>NaN</td>\n",
              "      <td>NaN</td>\n",
              "      <td>NaN</td>\n",
              "    </tr>\n",
              "    <tr>\n",
              "      <th>260</th>\n",
              "      <td>https://www.instagram.com/p/CB6ASMZn-sQ/</td>\n",
              "      <td>https://www.instagram.com/hexelineofficial</td>\n",
              "      <td>hexelineofficial</td>\n",
              "      <td>HEXELINE</td>\n",
              "      <td>1</td>\n",
              "      <td>32</td>\n",
              "      <td>2020-06-26T17:15:19.000Z</td>\n",
              "      <td>Zródłem stylu jest Twoje wnętrze, które najlep...</td>\n",
              "      <td>NaN</td>\n",
              "      <td>https://scontent-lhr8-1.cdninstagram.com/v/t51...</td>\n",
              "      <td>2.340184e+18</td>\n",
              "      <td>1.371708e+09</td>\n",
              "      <td>Photo</td>\n",
              "      <td>NaN</td>\n",
              "      <td>2022-09-16T14:35:13.032Z</td>\n",
              "      <td>False</td>\n",
              "      <td>NaN</td>\n",
              "      <td>NaN</td>\n",
              "      <td>NaN</td>\n",
              "    </tr>\n",
              "    <tr>\n",
              "      <th>530</th>\n",
              "      <td>https://www.instagram.com/p/B0wCSYTBgF9/</td>\n",
              "      <td>https://www.instagram.com/hexelineofficial</td>\n",
              "      <td>hexelineofficial</td>\n",
              "      <td>HEXELINE</td>\n",
              "      <td>3</td>\n",
              "      <td>31</td>\n",
              "      <td>2019-08-04T17:34:42.000Z</td>\n",
              "      <td>Macie takie słowo, które działa na Was jak zak...</td>\n",
              "      <td>NaN</td>\n",
              "      <td>NaN</td>\n",
              "      <td>2.103191e+18</td>\n",
              "      <td>1.371708e+09</td>\n",
              "      <td>Video</td>\n",
              "      <td>NaN</td>\n",
              "      <td>2022-09-16T14:35:50.213Z</td>\n",
              "      <td>False</td>\n",
              "      <td>NaN</td>\n",
              "      <td>https://scontent-lhr8-1.cdninstagram.com/v/t50...</td>\n",
              "      <td>289.0</td>\n",
              "    </tr>\n",
              "  </tbody>\n",
              "</table>\n",
              "</div>\n",
              "      <button class=\"colab-df-convert\" onclick=\"convertToInteractive('df-3349e892-ada3-4560-9059-0f8563b56004')\"\n",
              "              title=\"Convert this dataframe to an interactive table.\"\n",
              "              style=\"display:none;\">\n",
              "        \n",
              "  <svg xmlns=\"http://www.w3.org/2000/svg\" height=\"24px\"viewBox=\"0 0 24 24\"\n",
              "       width=\"24px\">\n",
              "    <path d=\"M0 0h24v24H0V0z\" fill=\"none\"/>\n",
              "    <path d=\"M18.56 5.44l.94 2.06.94-2.06 2.06-.94-2.06-.94-.94-2.06-.94 2.06-2.06.94zm-11 1L8.5 8.5l.94-2.06 2.06-.94-2.06-.94L8.5 2.5l-.94 2.06-2.06.94zm10 10l.94 2.06.94-2.06 2.06-.94-2.06-.94-.94-2.06-.94 2.06-2.06.94z\"/><path d=\"M17.41 7.96l-1.37-1.37c-.4-.4-.92-.59-1.43-.59-.52 0-1.04.2-1.43.59L10.3 9.45l-7.72 7.72c-.78.78-.78 2.05 0 2.83L4 21.41c.39.39.9.59 1.41.59.51 0 1.02-.2 1.41-.59l7.78-7.78 2.81-2.81c.8-.78.8-2.07 0-2.86zM5.41 20L4 18.59l7.72-7.72 1.47 1.35L5.41 20z\"/>\n",
              "  </svg>\n",
              "      </button>\n",
              "      \n",
              "  <style>\n",
              "    .colab-df-container {\n",
              "      display:flex;\n",
              "      flex-wrap:wrap;\n",
              "      gap: 12px;\n",
              "    }\n",
              "\n",
              "    .colab-df-convert {\n",
              "      background-color: #E8F0FE;\n",
              "      border: none;\n",
              "      border-radius: 50%;\n",
              "      cursor: pointer;\n",
              "      display: none;\n",
              "      fill: #1967D2;\n",
              "      height: 32px;\n",
              "      padding: 0 0 0 0;\n",
              "      width: 32px;\n",
              "    }\n",
              "\n",
              "    .colab-df-convert:hover {\n",
              "      background-color: #E2EBFA;\n",
              "      box-shadow: 0px 1px 2px rgba(60, 64, 67, 0.3), 0px 1px 3px 1px rgba(60, 64, 67, 0.15);\n",
              "      fill: #174EA6;\n",
              "    }\n",
              "\n",
              "    [theme=dark] .colab-df-convert {\n",
              "      background-color: #3B4455;\n",
              "      fill: #D2E3FC;\n",
              "    }\n",
              "\n",
              "    [theme=dark] .colab-df-convert:hover {\n",
              "      background-color: #434B5C;\n",
              "      box-shadow: 0px 1px 3px 1px rgba(0, 0, 0, 0.15);\n",
              "      filter: drop-shadow(0px 1px 2px rgba(0, 0, 0, 0.3));\n",
              "      fill: #FFFFFF;\n",
              "    }\n",
              "  </style>\n",
              "\n",
              "      <script>\n",
              "        const buttonEl =\n",
              "          document.querySelector('#df-3349e892-ada3-4560-9059-0f8563b56004 button.colab-df-convert');\n",
              "        buttonEl.style.display =\n",
              "          google.colab.kernel.accessAllowed ? 'block' : 'none';\n",
              "\n",
              "        async function convertToInteractive(key) {\n",
              "          const element = document.querySelector('#df-3349e892-ada3-4560-9059-0f8563b56004');\n",
              "          const dataTable =\n",
              "            await google.colab.kernel.invokeFunction('convertToInteractive',\n",
              "                                                     [key], {});\n",
              "          if (!dataTable) return;\n",
              "\n",
              "          const docLinkHtml = 'Like what you see? Visit the ' +\n",
              "            '<a target=\"_blank\" href=https://colab.research.google.com/notebooks/data_table.ipynb>data table notebook</a>'\n",
              "            + ' to learn more about interactive tables.';\n",
              "          element.innerHTML = '';\n",
              "          dataTable['output_type'] = 'display_data';\n",
              "          await google.colab.output.renderOutput(dataTable, element);\n",
              "          const docLink = document.createElement('div');\n",
              "          docLink.innerHTML = docLinkHtml;\n",
              "          element.appendChild(docLink);\n",
              "        }\n",
              "      </script>\n",
              "    </div>\n",
              "  </div>\n",
              "  "
            ]
          },
          "metadata": {},
          "execution_count": 2
        }
      ]
    },
    {
      "cell_type": "code",
      "source": [
        "df = df[df['description'].notnull()]"
      ],
      "metadata": {
        "id": "A_Sg8nF7X_5C"
      },
      "execution_count": 3,
      "outputs": []
    },
    {
      "cell_type": "markdown",
      "source": [
        "####Word counts\n"
      ],
      "metadata": {
        "id": "h0uc7xGxWZgX"
      }
    },
    {
      "cell_type": "code",
      "source": [
        "df['word_counts'] = df['description'].apply(lambda x: len(str(x).split()))"
      ],
      "metadata": {
        "id": "kdxodB3ZYBOX"
      },
      "execution_count": 4,
      "outputs": []
    },
    {
      "cell_type": "code",
      "source": [
        "df['word_counts'].max()"
      ],
      "metadata": {
        "colab": {
          "base_uri": "https://localhost:8080/"
        },
        "id": "XCm-YcHiYBGX",
        "outputId": "67ab033f-1e35-43ec-850f-3e29a89dfd96"
      },
      "execution_count": 5,
      "outputs": [
        {
          "output_type": "execute_result",
          "data": {
            "text/plain": [
              "255"
            ]
          },
          "metadata": {},
          "execution_count": 5
        }
      ]
    },
    {
      "cell_type": "code",
      "source": [
        "df['word_counts'].min()"
      ],
      "metadata": {
        "colab": {
          "base_uri": "https://localhost:8080/"
        },
        "id": "VUwWrE-o0p98",
        "outputId": "cf38000a-57ed-458a-c38e-0e119b6445cf"
      },
      "execution_count": 6,
      "outputs": [
        {
          "output_type": "execute_result",
          "data": {
            "text/plain": [
              "1"
            ]
          },
          "metadata": {},
          "execution_count": 6
        }
      ]
    },
    {
      "cell_type": "code",
      "source": [
        "df['word_counts'].sample(3)"
      ],
      "metadata": {
        "colab": {
          "base_uri": "https://localhost:8080/"
        },
        "id": "o5b-O9BV0p5H",
        "outputId": "09f03255-0a5a-4e4c-b5fc-1c0612d2afe3"
      },
      "execution_count": 7,
      "outputs": [
        {
          "output_type": "execute_result",
          "data": {
            "text/plain": [
              "445    20\n",
              "792    16\n",
              "433    15\n",
              "Name: word_counts, dtype: int64"
            ]
          },
          "metadata": {},
          "execution_count": 7
        }
      ]
    },
    {
      "cell_type": "markdown",
      "source": [
        "####Characters count\n"
      ],
      "metadata": {
        "id": "SmSzF7s4WaEx"
      }
    },
    {
      "cell_type": "code",
      "source": [
        "def char_counts(x):\n",
        "    s = x.split()\n",
        "    x = ''.join(s)\n",
        "    return len(x)"
      ],
      "metadata": {
        "id": "BOAn-jqXYDBW"
      },
      "execution_count": 8,
      "outputs": []
    },
    {
      "cell_type": "code",
      "source": [
        "df['char_counts'] = df['description'].apply(lambda x: char_counts(str(x)))"
      ],
      "metadata": {
        "id": "--QbKYXuYC9v"
      },
      "execution_count": 9,
      "outputs": []
    },
    {
      "cell_type": "code",
      "source": [
        "df['char_counts'].sample(3)"
      ],
      "metadata": {
        "colab": {
          "base_uri": "https://localhost:8080/"
        },
        "id": "BQ_mcm5VYC6N",
        "outputId": "376ff9c8-5b83-41b9-b13a-a2be84e10945"
      },
      "execution_count": 10,
      "outputs": [
        {
          "output_type": "execute_result",
          "data": {
            "text/plain": [
              "273     96\n",
              "695    161\n",
              "127    435\n",
              "Name: char_counts, dtype: int64"
            ]
          },
          "metadata": {},
          "execution_count": 10
        }
      ]
    },
    {
      "cell_type": "markdown",
      "source": [
        "####Average characters per word\n"
      ],
      "metadata": {
        "id": "iTKPzwvgWaqM"
      }
    },
    {
      "cell_type": "code",
      "source": [
        "df['avg_word_len'] = df['char_counts']/df['word_counts']"
      ],
      "metadata": {
        "id": "PpMO2D8PYEGt"
      },
      "execution_count": 11,
      "outputs": []
    },
    {
      "cell_type": "code",
      "source": [
        "df['avg_word_len'].sample(3)"
      ],
      "metadata": {
        "colab": {
          "base_uri": "https://localhost:8080/"
        },
        "id": "vVB3-AufYEDW",
        "outputId": "f8269d65-f9a3-44ec-c098-e7895c624674"
      },
      "execution_count": 12,
      "outputs": [
        {
          "output_type": "execute_result",
          "data": {
            "text/plain": [
              "777    9.044444\n",
              "545    8.480000\n",
              "43     9.313725\n",
              "Name: avg_word_len, dtype: float64"
            ]
          },
          "metadata": {},
          "execution_count": 12
        }
      ]
    },
    {
      "cell_type": "markdown",
      "source": [
        "####Count #HashTags and @Mentions\n"
      ],
      "metadata": {
        "id": "E3c3w65LXsER"
      }
    },
    {
      "cell_type": "code",
      "source": [
        "df['hashtags_count'] = df['description'].apply(lambda x: len([t for t in x.split() if t.startswith('#')]))"
      ],
      "metadata": {
        "id": "lNUOtUpVYGjS"
      },
      "execution_count": 13,
      "outputs": []
    },
    {
      "cell_type": "code",
      "source": [
        "df['mentions_count'] = df['description'].apply(lambda x: len([t for t in x.split() if t.startswith('@')]))"
      ],
      "metadata": {
        "id": "OtAHaxfPYGfO"
      },
      "execution_count": 14,
      "outputs": []
    },
    {
      "cell_type": "code",
      "source": [
        "df['hashtags_count'].sample(3)"
      ],
      "metadata": {
        "colab": {
          "base_uri": "https://localhost:8080/"
        },
        "id": "AeWQ7fn_566t",
        "outputId": "2014ea15-c9b3-4d8b-eed1-7a06588a29c4"
      },
      "execution_count": 15,
      "outputs": [
        {
          "output_type": "execute_result",
          "data": {
            "text/plain": [
              "837    11\n",
              "407     0\n",
              "766     0\n",
              "Name: hashtags_count, dtype: int64"
            ]
          },
          "metadata": {},
          "execution_count": 15
        }
      ]
    },
    {
      "cell_type": "code",
      "source": [
        "df['mentions_count'].sample(3)"
      ],
      "metadata": {
        "colab": {
          "base_uri": "https://localhost:8080/"
        },
        "id": "i3qovOcJYGb6",
        "outputId": "864f7348-7c0a-4d10-fa6f-4bd97987e6d1"
      },
      "execution_count": 16,
      "outputs": [
        {
          "output_type": "execute_result",
          "data": {
            "text/plain": [
              "737    0\n",
              "627    1\n",
              "679    1\n",
              "Name: mentions_count, dtype: int64"
            ]
          },
          "metadata": {},
          "execution_count": 16
        }
      ]
    },
    {
      "cell_type": "markdown",
      "source": [
        "####Upper case word counts"
      ],
      "metadata": {
        "id": "4Jy8UU15XrpZ"
      }
    },
    {
      "cell_type": "code",
      "source": [
        "df['upper_counts'] = df['description'].apply(lambda x: len([t for t in x.split() if t.isupper()]))"
      ],
      "metadata": {
        "id": "k0juBmMMYMrr"
      },
      "execution_count": 17,
      "outputs": []
    },
    {
      "cell_type": "code",
      "source": [
        "df['upper_counts'].sample(3)"
      ],
      "metadata": {
        "colab": {
          "base_uri": "https://localhost:8080/"
        },
        "id": "ZkhZ2C4gYNec",
        "outputId": "6fc7a4bd-d347-4e17-a4cf-25efc442c4c4"
      },
      "execution_count": 18,
      "outputs": [
        {
          "output_type": "execute_result",
          "data": {
            "text/plain": [
              "701    0\n",
              "715    1\n",
              "363    0\n",
              "Name: upper_counts, dtype: int64"
            ]
          },
          "metadata": {},
          "execution_count": 18
        }
      ]
    },
    {
      "cell_type": "markdown",
      "source": [
        "####If numeric digits are present in twitts"
      ],
      "metadata": {
        "id": "MbJMvRlW71Xd"
      }
    },
    {
      "cell_type": "code",
      "source": [
        "df['numerics_count'] = df['description'].apply(lambda x: len([t for t in x.split() if t.isdigit()]))"
      ],
      "metadata": {
        "id": "tlhNHWnrYNa_"
      },
      "execution_count": 19,
      "outputs": []
    },
    {
      "cell_type": "code",
      "source": [
        "df['numerics_count'].sample(3)"
      ],
      "metadata": {
        "colab": {
          "base_uri": "https://localhost:8080/"
        },
        "id": "fJIa5wZ7YNTo",
        "outputId": "341a8348-893d-4eb3-ad74-c0de5ded5e30"
      },
      "execution_count": 20,
      "outputs": [
        {
          "output_type": "execute_result",
          "data": {
            "text/plain": [
              "372    0\n",
              "165    0\n",
              "654    0\n",
              "Name: numerics_count, dtype: int64"
            ]
          },
          "metadata": {},
          "execution_count": 20
        }
      ]
    },
    {
      "cell_type": "markdown",
      "source": [
        "##Preprocessing and Cleaning"
      ],
      "metadata": {
        "id": "-ZLI-4jN8HBR"
      }
    },
    {
      "cell_type": "markdown",
      "source": [
        "####Lower Case Conversion"
      ],
      "metadata": {
        "id": "g53xlVtj8SFH"
      }
    },
    {
      "cell_type": "code",
      "source": [
        "df['description'] = df['description'].apply(lambda x: str(x).lower())"
      ],
      "metadata": {
        "id": "Fy4ZRbdQ8Gug"
      },
      "execution_count": 21,
      "outputs": []
    },
    {
      "cell_type": "code",
      "source": [
        "df['description'].sample(3)"
      ],
      "metadata": {
        "colab": {
          "base_uri": "https://localhost:8080/"
        },
        "id": "GHxQVzSB8jSg",
        "outputId": "98086a03-4da0-49f4-b3a6-c8b9d70ce7ce"
      },
      "execution_count": 22,
      "outputs": [
        {
          "output_type": "execute_result",
          "data": {
            "text/plain": [
              "849    new hexeline ss2016 campaign\\nphoto: @marcinke...\n",
              "769    sylwestrowe odliczanie: czarny kombinezon \"hex...\n",
              "79     tenis, prążki paski, najkorzystniej w pionie 👌...\n",
              "Name: description, dtype: object"
            ]
          },
          "metadata": {},
          "execution_count": 22
        }
      ]
    },
    {
      "cell_type": "markdown",
      "source": [
        "####Count and Remove Emails"
      ],
      "metadata": {
        "id": "Ynz-pGic8ujw"
      }
    },
    {
      "cell_type": "code",
      "source": [
        "df['emails'] = df['description'].apply(lambda x: re.findall(r'([a-z0-9+._-]+@[a-z0-9+._-]+\\.[a-z0-9+_-]+\\b)', x))"
      ],
      "metadata": {
        "id": "sFFeC91q9Asr"
      },
      "execution_count": 25,
      "outputs": []
    },
    {
      "cell_type": "code",
      "source": [
        "df['emails_count'] = df['emails'].apply(lambda x: len(x))"
      ],
      "metadata": {
        "id": "jCNoI9ZI9Aht"
      },
      "execution_count": 26,
      "outputs": []
    },
    {
      "cell_type": "code",
      "source": [
        "df[df['emails_count']>0]"
      ],
      "metadata": {
        "colab": {
          "base_uri": "https://localhost:8080/",
          "height": 143
        },
        "id": "bI0EpsGT9AVE",
        "outputId": "31576bbc-4831-4ac2-c412-dd136fe9ff1f"
      },
      "execution_count": 27,
      "outputs": [
        {
          "output_type": "execute_result",
          "data": {
            "text/plain": [
              "Empty DataFrame\n",
              "Columns: [postUrl, profileUrl, username, fullName, commentCount, likeCount, pubDate, description, location, imgUrl, postId, ownerId, type, query, timestamp, isSidecar, sidecarMedias, videoUrl, viewCount, word_counts, char_counts, avg_word_len, hashtags_count, mentions_count, upper_counts, numerics_count, emails, emails_count]\n",
              "Index: []\n",
              "\n",
              "[0 rows x 28 columns]"
            ],
            "text/html": [
              "\n",
              "  <div id=\"df-889305ab-7187-4961-b546-956c3e063ff9\">\n",
              "    <div class=\"colab-df-container\">\n",
              "      <div>\n",
              "<style scoped>\n",
              "    .dataframe tbody tr th:only-of-type {\n",
              "        vertical-align: middle;\n",
              "    }\n",
              "\n",
              "    .dataframe tbody tr th {\n",
              "        vertical-align: top;\n",
              "    }\n",
              "\n",
              "    .dataframe thead th {\n",
              "        text-align: right;\n",
              "    }\n",
              "</style>\n",
              "<table border=\"1\" class=\"dataframe\">\n",
              "  <thead>\n",
              "    <tr style=\"text-align: right;\">\n",
              "      <th></th>\n",
              "      <th>postUrl</th>\n",
              "      <th>profileUrl</th>\n",
              "      <th>username</th>\n",
              "      <th>fullName</th>\n",
              "      <th>commentCount</th>\n",
              "      <th>likeCount</th>\n",
              "      <th>pubDate</th>\n",
              "      <th>description</th>\n",
              "      <th>location</th>\n",
              "      <th>imgUrl</th>\n",
              "      <th>...</th>\n",
              "      <th>viewCount</th>\n",
              "      <th>word_counts</th>\n",
              "      <th>char_counts</th>\n",
              "      <th>avg_word_len</th>\n",
              "      <th>hashtags_count</th>\n",
              "      <th>mentions_count</th>\n",
              "      <th>upper_counts</th>\n",
              "      <th>numerics_count</th>\n",
              "      <th>emails</th>\n",
              "      <th>emails_count</th>\n",
              "    </tr>\n",
              "  </thead>\n",
              "  <tbody>\n",
              "  </tbody>\n",
              "</table>\n",
              "<p>0 rows × 28 columns</p>\n",
              "</div>\n",
              "      <button class=\"colab-df-convert\" onclick=\"convertToInteractive('df-889305ab-7187-4961-b546-956c3e063ff9')\"\n",
              "              title=\"Convert this dataframe to an interactive table.\"\n",
              "              style=\"display:none;\">\n",
              "        \n",
              "  <svg xmlns=\"http://www.w3.org/2000/svg\" height=\"24px\"viewBox=\"0 0 24 24\"\n",
              "       width=\"24px\">\n",
              "    <path d=\"M0 0h24v24H0V0z\" fill=\"none\"/>\n",
              "    <path d=\"M18.56 5.44l.94 2.06.94-2.06 2.06-.94-2.06-.94-.94-2.06-.94 2.06-2.06.94zm-11 1L8.5 8.5l.94-2.06 2.06-.94-2.06-.94L8.5 2.5l-.94 2.06-2.06.94zm10 10l.94 2.06.94-2.06 2.06-.94-2.06-.94-.94-2.06-.94 2.06-2.06.94z\"/><path d=\"M17.41 7.96l-1.37-1.37c-.4-.4-.92-.59-1.43-.59-.52 0-1.04.2-1.43.59L10.3 9.45l-7.72 7.72c-.78.78-.78 2.05 0 2.83L4 21.41c.39.39.9.59 1.41.59.51 0 1.02-.2 1.41-.59l7.78-7.78 2.81-2.81c.8-.78.8-2.07 0-2.86zM5.41 20L4 18.59l7.72-7.72 1.47 1.35L5.41 20z\"/>\n",
              "  </svg>\n",
              "      </button>\n",
              "      \n",
              "  <style>\n",
              "    .colab-df-container {\n",
              "      display:flex;\n",
              "      flex-wrap:wrap;\n",
              "      gap: 12px;\n",
              "    }\n",
              "\n",
              "    .colab-df-convert {\n",
              "      background-color: #E8F0FE;\n",
              "      border: none;\n",
              "      border-radius: 50%;\n",
              "      cursor: pointer;\n",
              "      display: none;\n",
              "      fill: #1967D2;\n",
              "      height: 32px;\n",
              "      padding: 0 0 0 0;\n",
              "      width: 32px;\n",
              "    }\n",
              "\n",
              "    .colab-df-convert:hover {\n",
              "      background-color: #E2EBFA;\n",
              "      box-shadow: 0px 1px 2px rgba(60, 64, 67, 0.3), 0px 1px 3px 1px rgba(60, 64, 67, 0.15);\n",
              "      fill: #174EA6;\n",
              "    }\n",
              "\n",
              "    [theme=dark] .colab-df-convert {\n",
              "      background-color: #3B4455;\n",
              "      fill: #D2E3FC;\n",
              "    }\n",
              "\n",
              "    [theme=dark] .colab-df-convert:hover {\n",
              "      background-color: #434B5C;\n",
              "      box-shadow: 0px 1px 3px 1px rgba(0, 0, 0, 0.15);\n",
              "      filter: drop-shadow(0px 1px 2px rgba(0, 0, 0, 0.3));\n",
              "      fill: #FFFFFF;\n",
              "    }\n",
              "  </style>\n",
              "\n",
              "      <script>\n",
              "        const buttonEl =\n",
              "          document.querySelector('#df-889305ab-7187-4961-b546-956c3e063ff9 button.colab-df-convert');\n",
              "        buttonEl.style.display =\n",
              "          google.colab.kernel.accessAllowed ? 'block' : 'none';\n",
              "\n",
              "        async function convertToInteractive(key) {\n",
              "          const element = document.querySelector('#df-889305ab-7187-4961-b546-956c3e063ff9');\n",
              "          const dataTable =\n",
              "            await google.colab.kernel.invokeFunction('convertToInteractive',\n",
              "                                                     [key], {});\n",
              "          if (!dataTable) return;\n",
              "\n",
              "          const docLinkHtml = 'Like what you see? Visit the ' +\n",
              "            '<a target=\"_blank\" href=https://colab.research.google.com/notebooks/data_table.ipynb>data table notebook</a>'\n",
              "            + ' to learn more about interactive tables.';\n",
              "          element.innerHTML = '';\n",
              "          dataTable['output_type'] = 'display_data';\n",
              "          await google.colab.output.renderOutput(dataTable, element);\n",
              "          const docLink = document.createElement('div');\n",
              "          docLink.innerHTML = docLinkHtml;\n",
              "          element.appendChild(docLink);\n",
              "        }\n",
              "      </script>\n",
              "    </div>\n",
              "  </div>\n",
              "  "
            ]
          },
          "metadata": {},
          "execution_count": 27
        }
      ]
    },
    {
      "cell_type": "code",
      "source": [
        "df['twitts'] = df['description'].apply(lambda x: re.sub(r'([a-z0-9+._-]+@[a-z0-9+._-]+\\.[a-z0-9+_-]+)',\"\", x))"
      ],
      "metadata": {
        "id": "v_kTXtCj9UVd"
      },
      "execution_count": 28,
      "outputs": []
    },
    {
      "cell_type": "code",
      "source": [
        "df[df['emails_count']>0]"
      ],
      "metadata": {
        "colab": {
          "base_uri": "https://localhost:8080/",
          "height": 143
        },
        "id": "pFp-nMXl9oVI",
        "outputId": "11e27b4a-96c6-4de8-b1d5-5e3fa29e8ecd"
      },
      "execution_count": 29,
      "outputs": [
        {
          "output_type": "execute_result",
          "data": {
            "text/plain": [
              "Empty DataFrame\n",
              "Columns: [postUrl, profileUrl, username, fullName, commentCount, likeCount, pubDate, description, location, imgUrl, postId, ownerId, type, query, timestamp, isSidecar, sidecarMedias, videoUrl, viewCount, word_counts, char_counts, avg_word_len, hashtags_count, mentions_count, upper_counts, numerics_count, emails, emails_count, twitts]\n",
              "Index: []\n",
              "\n",
              "[0 rows x 29 columns]"
            ],
            "text/html": [
              "\n",
              "  <div id=\"df-b3e4f170-55af-4795-b0dd-1366443dec80\">\n",
              "    <div class=\"colab-df-container\">\n",
              "      <div>\n",
              "<style scoped>\n",
              "    .dataframe tbody tr th:only-of-type {\n",
              "        vertical-align: middle;\n",
              "    }\n",
              "\n",
              "    .dataframe tbody tr th {\n",
              "        vertical-align: top;\n",
              "    }\n",
              "\n",
              "    .dataframe thead th {\n",
              "        text-align: right;\n",
              "    }\n",
              "</style>\n",
              "<table border=\"1\" class=\"dataframe\">\n",
              "  <thead>\n",
              "    <tr style=\"text-align: right;\">\n",
              "      <th></th>\n",
              "      <th>postUrl</th>\n",
              "      <th>profileUrl</th>\n",
              "      <th>username</th>\n",
              "      <th>fullName</th>\n",
              "      <th>commentCount</th>\n",
              "      <th>likeCount</th>\n",
              "      <th>pubDate</th>\n",
              "      <th>description</th>\n",
              "      <th>location</th>\n",
              "      <th>imgUrl</th>\n",
              "      <th>...</th>\n",
              "      <th>word_counts</th>\n",
              "      <th>char_counts</th>\n",
              "      <th>avg_word_len</th>\n",
              "      <th>hashtags_count</th>\n",
              "      <th>mentions_count</th>\n",
              "      <th>upper_counts</th>\n",
              "      <th>numerics_count</th>\n",
              "      <th>emails</th>\n",
              "      <th>emails_count</th>\n",
              "      <th>twitts</th>\n",
              "    </tr>\n",
              "  </thead>\n",
              "  <tbody>\n",
              "  </tbody>\n",
              "</table>\n",
              "<p>0 rows × 29 columns</p>\n",
              "</div>\n",
              "      <button class=\"colab-df-convert\" onclick=\"convertToInteractive('df-b3e4f170-55af-4795-b0dd-1366443dec80')\"\n",
              "              title=\"Convert this dataframe to an interactive table.\"\n",
              "              style=\"display:none;\">\n",
              "        \n",
              "  <svg xmlns=\"http://www.w3.org/2000/svg\" height=\"24px\"viewBox=\"0 0 24 24\"\n",
              "       width=\"24px\">\n",
              "    <path d=\"M0 0h24v24H0V0z\" fill=\"none\"/>\n",
              "    <path d=\"M18.56 5.44l.94 2.06.94-2.06 2.06-.94-2.06-.94-.94-2.06-.94 2.06-2.06.94zm-11 1L8.5 8.5l.94-2.06 2.06-.94-2.06-.94L8.5 2.5l-.94 2.06-2.06.94zm10 10l.94 2.06.94-2.06 2.06-.94-2.06-.94-.94-2.06-.94 2.06-2.06.94z\"/><path d=\"M17.41 7.96l-1.37-1.37c-.4-.4-.92-.59-1.43-.59-.52 0-1.04.2-1.43.59L10.3 9.45l-7.72 7.72c-.78.78-.78 2.05 0 2.83L4 21.41c.39.39.9.59 1.41.59.51 0 1.02-.2 1.41-.59l7.78-7.78 2.81-2.81c.8-.78.8-2.07 0-2.86zM5.41 20L4 18.59l7.72-7.72 1.47 1.35L5.41 20z\"/>\n",
              "  </svg>\n",
              "      </button>\n",
              "      \n",
              "  <style>\n",
              "    .colab-df-container {\n",
              "      display:flex;\n",
              "      flex-wrap:wrap;\n",
              "      gap: 12px;\n",
              "    }\n",
              "\n",
              "    .colab-df-convert {\n",
              "      background-color: #E8F0FE;\n",
              "      border: none;\n",
              "      border-radius: 50%;\n",
              "      cursor: pointer;\n",
              "      display: none;\n",
              "      fill: #1967D2;\n",
              "      height: 32px;\n",
              "      padding: 0 0 0 0;\n",
              "      width: 32px;\n",
              "    }\n",
              "\n",
              "    .colab-df-convert:hover {\n",
              "      background-color: #E2EBFA;\n",
              "      box-shadow: 0px 1px 2px rgba(60, 64, 67, 0.3), 0px 1px 3px 1px rgba(60, 64, 67, 0.15);\n",
              "      fill: #174EA6;\n",
              "    }\n",
              "\n",
              "    [theme=dark] .colab-df-convert {\n",
              "      background-color: #3B4455;\n",
              "      fill: #D2E3FC;\n",
              "    }\n",
              "\n",
              "    [theme=dark] .colab-df-convert:hover {\n",
              "      background-color: #434B5C;\n",
              "      box-shadow: 0px 1px 3px 1px rgba(0, 0, 0, 0.15);\n",
              "      filter: drop-shadow(0px 1px 2px rgba(0, 0, 0, 0.3));\n",
              "      fill: #FFFFFF;\n",
              "    }\n",
              "  </style>\n",
              "\n",
              "      <script>\n",
              "        const buttonEl =\n",
              "          document.querySelector('#df-b3e4f170-55af-4795-b0dd-1366443dec80 button.colab-df-convert');\n",
              "        buttonEl.style.display =\n",
              "          google.colab.kernel.accessAllowed ? 'block' : 'none';\n",
              "\n",
              "        async function convertToInteractive(key) {\n",
              "          const element = document.querySelector('#df-b3e4f170-55af-4795-b0dd-1366443dec80');\n",
              "          const dataTable =\n",
              "            await google.colab.kernel.invokeFunction('convertToInteractive',\n",
              "                                                     [key], {});\n",
              "          if (!dataTable) return;\n",
              "\n",
              "          const docLinkHtml = 'Like what you see? Visit the ' +\n",
              "            '<a target=\"_blank\" href=https://colab.research.google.com/notebooks/data_table.ipynb>data table notebook</a>'\n",
              "            + ' to learn more about interactive tables.';\n",
              "          element.innerHTML = '';\n",
              "          dataTable['output_type'] = 'display_data';\n",
              "          await google.colab.output.renderOutput(dataTable, element);\n",
              "          const docLink = document.createElement('div');\n",
              "          docLink.innerHTML = docLinkHtml;\n",
              "          element.appendChild(docLink);\n",
              "        }\n",
              "      </script>\n",
              "    </div>\n",
              "  </div>\n",
              "  "
            ]
          },
          "metadata": {},
          "execution_count": 29
        }
      ]
    },
    {
      "cell_type": "markdown",
      "source": [
        "####Count URLs and Remove it"
      ],
      "metadata": {
        "id": "v6aP4K9R-CYN"
      }
    },
    {
      "cell_type": "code",
      "source": [
        "df['url_flags'] = df['description'].apply(lambda x: len(re.findall(r'(http|https|ftp|ssh)://([\\w_-]+(?:(?:\\.[\\w_-]+)+))([\\w.,@?^=%&:/~+#-]*[\\w@?^=%&/~+#-])?', x)))"
      ],
      "metadata": {
        "id": "OEK5oSB2-CA3"
      },
      "execution_count": 30,
      "outputs": []
    },
    {
      "cell_type": "code",
      "source": [
        "df[df['url_flags']>0].sample(3)"
      ],
      "metadata": {
        "colab": {
          "base_uri": "https://localhost:8080/",
          "height": 428
        },
        "id": "NzTCWuhA-UjX",
        "outputId": "d50bf536-c58a-41ed-c77c-4e70a1063c26"
      },
      "execution_count": 31,
      "outputs": [
        {
          "output_type": "execute_result",
          "data": {
            "text/plain": [
              "                                      postUrl  \\\n",
              "198  https://www.instagram.com/p/CFVhcGLnYRq/   \n",
              "733  https://www.instagram.com/p/BSf44IHAOBz/   \n",
              "734  https://www.instagram.com/p/BSf4ofAgJw8/   \n",
              "\n",
              "                                      profileUrl           username  \\\n",
              "198       https://www.instagram.com/freakmeaning       freakmeaning   \n",
              "733  https://www.instagram.com/fashion_coco_club  fashion_coco_club   \n",
              "734  https://www.instagram.com/fashion_coco_club  fashion_coco_club   \n",
              "\n",
              "                 fullName  commentCount likeCount                   pubDate  \\\n",
              "198                 fre4k             0       100  2020-09-19T23:18:41.000Z   \n",
              "733  COCO SALON ODZIEZOWY             1        21  2017-04-05T09:14:48.000Z   \n",
              "734  COCO SALON ODZIEZOWY             2        19  2017-04-05T09:12:40.000Z   \n",
              "\n",
              "                                           description location  \\\n",
              "198  i'm trying out his program i discovered called...      NaN   \n",
              "733  nowa dostawa świątecznych sukienek i bluzek z ...      NaN   \n",
              "734  nowa dostawa świątecznych sukienek i bluzek z ...      NaN   \n",
              "\n",
              "                                                imgUrl  ...  char_counts  \\\n",
              "198  https://scontent-lhr8-2.cdninstagram.com/v/t51...  ...          472   \n",
              "733  https://scontent-lhr8-1.cdninstagram.com/v/t51...  ...          385   \n",
              "734  https://scontent-lhr8-2.cdninstagram.com/v/t51...  ...          311   \n",
              "\n",
              "     avg_word_len hashtags_count mentions_count upper_counts numerics_count  \\\n",
              "198      9.076923             30              0            1              0   \n",
              "733      9.871795             13              0            0              0   \n",
              "734      9.147059             11              0            0              0   \n",
              "\n",
              "     emails emails_count                                             twitts  \\\n",
              "198      []            0  i'm trying out his program i discovered called...   \n",
              "733      []            0  nowa dostawa świątecznych sukienek i bluzek z ...   \n",
              "734      []            0  nowa dostawa świątecznych sukienek i bluzek z ...   \n",
              "\n",
              "     url_flags  \n",
              "198          2  \n",
              "733          2  \n",
              "734          1  \n",
              "\n",
              "[3 rows x 30 columns]"
            ],
            "text/html": [
              "\n",
              "  <div id=\"df-017fd969-1aa5-48f6-be68-fb2e0687b977\">\n",
              "    <div class=\"colab-df-container\">\n",
              "      <div>\n",
              "<style scoped>\n",
              "    .dataframe tbody tr th:only-of-type {\n",
              "        vertical-align: middle;\n",
              "    }\n",
              "\n",
              "    .dataframe tbody tr th {\n",
              "        vertical-align: top;\n",
              "    }\n",
              "\n",
              "    .dataframe thead th {\n",
              "        text-align: right;\n",
              "    }\n",
              "</style>\n",
              "<table border=\"1\" class=\"dataframe\">\n",
              "  <thead>\n",
              "    <tr style=\"text-align: right;\">\n",
              "      <th></th>\n",
              "      <th>postUrl</th>\n",
              "      <th>profileUrl</th>\n",
              "      <th>username</th>\n",
              "      <th>fullName</th>\n",
              "      <th>commentCount</th>\n",
              "      <th>likeCount</th>\n",
              "      <th>pubDate</th>\n",
              "      <th>description</th>\n",
              "      <th>location</th>\n",
              "      <th>imgUrl</th>\n",
              "      <th>...</th>\n",
              "      <th>char_counts</th>\n",
              "      <th>avg_word_len</th>\n",
              "      <th>hashtags_count</th>\n",
              "      <th>mentions_count</th>\n",
              "      <th>upper_counts</th>\n",
              "      <th>numerics_count</th>\n",
              "      <th>emails</th>\n",
              "      <th>emails_count</th>\n",
              "      <th>twitts</th>\n",
              "      <th>url_flags</th>\n",
              "    </tr>\n",
              "  </thead>\n",
              "  <tbody>\n",
              "    <tr>\n",
              "      <th>198</th>\n",
              "      <td>https://www.instagram.com/p/CFVhcGLnYRq/</td>\n",
              "      <td>https://www.instagram.com/freakmeaning</td>\n",
              "      <td>freakmeaning</td>\n",
              "      <td>fre4k</td>\n",
              "      <td>0</td>\n",
              "      <td>100</td>\n",
              "      <td>2020-09-19T23:18:41.000Z</td>\n",
              "      <td>i'm trying out his program i discovered called...</td>\n",
              "      <td>NaN</td>\n",
              "      <td>https://scontent-lhr8-2.cdninstagram.com/v/t51...</td>\n",
              "      <td>...</td>\n",
              "      <td>472</td>\n",
              "      <td>9.076923</td>\n",
              "      <td>30</td>\n",
              "      <td>0</td>\n",
              "      <td>1</td>\n",
              "      <td>0</td>\n",
              "      <td>[]</td>\n",
              "      <td>0</td>\n",
              "      <td>i'm trying out his program i discovered called...</td>\n",
              "      <td>2</td>\n",
              "    </tr>\n",
              "    <tr>\n",
              "      <th>733</th>\n",
              "      <td>https://www.instagram.com/p/BSf44IHAOBz/</td>\n",
              "      <td>https://www.instagram.com/fashion_coco_club</td>\n",
              "      <td>fashion_coco_club</td>\n",
              "      <td>COCO SALON ODZIEZOWY</td>\n",
              "      <td>1</td>\n",
              "      <td>21</td>\n",
              "      <td>2017-04-05T09:14:48.000Z</td>\n",
              "      <td>nowa dostawa świątecznych sukienek i bluzek z ...</td>\n",
              "      <td>NaN</td>\n",
              "      <td>https://scontent-lhr8-1.cdninstagram.com/v/t51...</td>\n",
              "      <td>...</td>\n",
              "      <td>385</td>\n",
              "      <td>9.871795</td>\n",
              "      <td>13</td>\n",
              "      <td>0</td>\n",
              "      <td>0</td>\n",
              "      <td>0</td>\n",
              "      <td>[]</td>\n",
              "      <td>0</td>\n",
              "      <td>nowa dostawa świątecznych sukienek i bluzek z ...</td>\n",
              "      <td>2</td>\n",
              "    </tr>\n",
              "    <tr>\n",
              "      <th>734</th>\n",
              "      <td>https://www.instagram.com/p/BSf4ofAgJw8/</td>\n",
              "      <td>https://www.instagram.com/fashion_coco_club</td>\n",
              "      <td>fashion_coco_club</td>\n",
              "      <td>COCO SALON ODZIEZOWY</td>\n",
              "      <td>2</td>\n",
              "      <td>19</td>\n",
              "      <td>2017-04-05T09:12:40.000Z</td>\n",
              "      <td>nowa dostawa świątecznych sukienek i bluzek z ...</td>\n",
              "      <td>NaN</td>\n",
              "      <td>https://scontent-lhr8-2.cdninstagram.com/v/t51...</td>\n",
              "      <td>...</td>\n",
              "      <td>311</td>\n",
              "      <td>9.147059</td>\n",
              "      <td>11</td>\n",
              "      <td>0</td>\n",
              "      <td>0</td>\n",
              "      <td>0</td>\n",
              "      <td>[]</td>\n",
              "      <td>0</td>\n",
              "      <td>nowa dostawa świątecznych sukienek i bluzek z ...</td>\n",
              "      <td>1</td>\n",
              "    </tr>\n",
              "  </tbody>\n",
              "</table>\n",
              "<p>3 rows × 30 columns</p>\n",
              "</div>\n",
              "      <button class=\"colab-df-convert\" onclick=\"convertToInteractive('df-017fd969-1aa5-48f6-be68-fb2e0687b977')\"\n",
              "              title=\"Convert this dataframe to an interactive table.\"\n",
              "              style=\"display:none;\">\n",
              "        \n",
              "  <svg xmlns=\"http://www.w3.org/2000/svg\" height=\"24px\"viewBox=\"0 0 24 24\"\n",
              "       width=\"24px\">\n",
              "    <path d=\"M0 0h24v24H0V0z\" fill=\"none\"/>\n",
              "    <path d=\"M18.56 5.44l.94 2.06.94-2.06 2.06-.94-2.06-.94-.94-2.06-.94 2.06-2.06.94zm-11 1L8.5 8.5l.94-2.06 2.06-.94-2.06-.94L8.5 2.5l-.94 2.06-2.06.94zm10 10l.94 2.06.94-2.06 2.06-.94-2.06-.94-.94-2.06-.94 2.06-2.06.94z\"/><path d=\"M17.41 7.96l-1.37-1.37c-.4-.4-.92-.59-1.43-.59-.52 0-1.04.2-1.43.59L10.3 9.45l-7.72 7.72c-.78.78-.78 2.05 0 2.83L4 21.41c.39.39.9.59 1.41.59.51 0 1.02-.2 1.41-.59l7.78-7.78 2.81-2.81c.8-.78.8-2.07 0-2.86zM5.41 20L4 18.59l7.72-7.72 1.47 1.35L5.41 20z\"/>\n",
              "  </svg>\n",
              "      </button>\n",
              "      \n",
              "  <style>\n",
              "    .colab-df-container {\n",
              "      display:flex;\n",
              "      flex-wrap:wrap;\n",
              "      gap: 12px;\n",
              "    }\n",
              "\n",
              "    .colab-df-convert {\n",
              "      background-color: #E8F0FE;\n",
              "      border: none;\n",
              "      border-radius: 50%;\n",
              "      cursor: pointer;\n",
              "      display: none;\n",
              "      fill: #1967D2;\n",
              "      height: 32px;\n",
              "      padding: 0 0 0 0;\n",
              "      width: 32px;\n",
              "    }\n",
              "\n",
              "    .colab-df-convert:hover {\n",
              "      background-color: #E2EBFA;\n",
              "      box-shadow: 0px 1px 2px rgba(60, 64, 67, 0.3), 0px 1px 3px 1px rgba(60, 64, 67, 0.15);\n",
              "      fill: #174EA6;\n",
              "    }\n",
              "\n",
              "    [theme=dark] .colab-df-convert {\n",
              "      background-color: #3B4455;\n",
              "      fill: #D2E3FC;\n",
              "    }\n",
              "\n",
              "    [theme=dark] .colab-df-convert:hover {\n",
              "      background-color: #434B5C;\n",
              "      box-shadow: 0px 1px 3px 1px rgba(0, 0, 0, 0.15);\n",
              "      filter: drop-shadow(0px 1px 2px rgba(0, 0, 0, 0.3));\n",
              "      fill: #FFFFFF;\n",
              "    }\n",
              "  </style>\n",
              "\n",
              "      <script>\n",
              "        const buttonEl =\n",
              "          document.querySelector('#df-017fd969-1aa5-48f6-be68-fb2e0687b977 button.colab-df-convert');\n",
              "        buttonEl.style.display =\n",
              "          google.colab.kernel.accessAllowed ? 'block' : 'none';\n",
              "\n",
              "        async function convertToInteractive(key) {\n",
              "          const element = document.querySelector('#df-017fd969-1aa5-48f6-be68-fb2e0687b977');\n",
              "          const dataTable =\n",
              "            await google.colab.kernel.invokeFunction('convertToInteractive',\n",
              "                                                     [key], {});\n",
              "          if (!dataTable) return;\n",
              "\n",
              "          const docLinkHtml = 'Like what you see? Visit the ' +\n",
              "            '<a target=\"_blank\" href=https://colab.research.google.com/notebooks/data_table.ipynb>data table notebook</a>'\n",
              "            + ' to learn more about interactive tables.';\n",
              "          element.innerHTML = '';\n",
              "          dataTable['output_type'] = 'display_data';\n",
              "          await google.colab.output.renderOutput(dataTable, element);\n",
              "          const docLink = document.createElement('div');\n",
              "          docLink.innerHTML = docLinkHtml;\n",
              "          element.appendChild(docLink);\n",
              "        }\n",
              "      </script>\n",
              "    </div>\n",
              "  </div>\n",
              "  "
            ]
          },
          "metadata": {},
          "execution_count": 31
        }
      ]
    },
    {
      "cell_type": "code",
      "source": [
        "df['description'] = df['description'].apply(lambda x: re.sub(r'(http|https|ftp|ssh)://([\\w_-]+(?:(?:\\.[\\w_-]+)+))([\\w.,@?^=%&:/~+#-]*[\\w@?^=%&/~+#-])?', '' , x))"
      ],
      "metadata": {
        "id": "iA0PUbIS-UY1"
      },
      "execution_count": 32,
      "outputs": []
    },
    {
      "cell_type": "code",
      "source": [
        "df['description'].sample(3)"
      ],
      "metadata": {
        "colab": {
          "base_uri": "https://localhost:8080/"
        },
        "id": "ILmLlc1i-ULR",
        "outputId": "9aedfbce-86fa-4aaa-97a7-42aca9db5568"
      },
      "execution_count": 33,
      "outputs": [
        {
          "output_type": "execute_result",
          "data": {
            "text/plain": [
              "348    pewność siebie pozwala współczesnym czarownico...\n",
              "920    day 2 / hexeline lookbook in @studiopzo #fashi...\n",
              "252    lekki i niezwykle delikatny jedwab podany na e...\n",
              "Name: description, dtype: object"
            ]
          },
          "metadata": {},
          "execution_count": 33
        }
      ]
    },
    {
      "cell_type": "markdown",
      "source": [
        "###Special Chars removal or punctuation removal"
      ],
      "metadata": {
        "id": "LgIrC4HD_DmU"
      }
    },
    {
      "cell_type": "code",
      "source": [
        "df['description'] = df['description'].apply(lambda x: re.sub(r'[^\\w ]+', \"\", x))"
      ],
      "metadata": {
        "id": "M26evqMs_HO9"
      },
      "execution_count": 34,
      "outputs": []
    },
    {
      "cell_type": "code",
      "source": [
        "df['description'].sample(3)"
      ],
      "metadata": {
        "colab": {
          "base_uri": "https://localhost:8080/"
        },
        "id": "UH8EpYlw_HuX",
        "outputId": "25ad6224-9e16-4ef1-ede8-1f5b9f56328f"
      },
      "execution_count": 35,
      "outputs": [
        {
          "output_type": "execute_result",
          "data": {
            "text/plain": [
              "770    przed nami sylwester a potem czas karnawału le...\n",
              "814    na poziomie 0 w naszym chr galaxy znajdziecie ...\n",
              "902                      hexeline fashion lookbook white\n",
              "Name: description, dtype: object"
            ]
          },
          "metadata": {},
          "execution_count": 35
        }
      ]
    },
    {
      "cell_type": "markdown",
      "source": [
        "####Remove multiple spaces"
      ],
      "metadata": {
        "id": "iGqN4bkE_XBE"
      }
    },
    {
      "cell_type": "code",
      "source": [
        "df['description'] = df['description'].apply(lambda x: ' '.join(x.split()))"
      ],
      "metadata": {
        "id": "ex8kQIDt_Wa-"
      },
      "execution_count": 36,
      "outputs": []
    },
    {
      "cell_type": "code",
      "source": [
        "df['description'].sample(3)"
      ],
      "metadata": {
        "colab": {
          "base_uri": "https://localhost:8080/"
        },
        "id": "8QOdWTth_ijN",
        "outputId": "6ca6db11-5ed4-4e98-8036-7d5d711f14e5"
      },
      "execution_count": 37,
      "outputs": [
        {
          "output_type": "execute_result",
          "data": {
            "text/plain": [
              "187    kuszące desenie są nieodłączną częścią kobiece...\n",
              "112    ponadczasowa klasyka moc detali nowoczesność i...\n",
              "214                                 autumnvibes hexeline\n",
              "Name: description, dtype: object"
            ]
          },
          "metadata": {},
          "execution_count": 37
        }
      ]
    },
    {
      "cell_type": "markdown",
      "source": [
        "####Remove Accented Chars"
      ],
      "metadata": {
        "id": "kZwwUSpo_jJ8"
      }
    },
    {
      "cell_type": "code",
      "source": [
        "import unicodedata"
      ],
      "metadata": {
        "id": "h19cDDtW_2WF"
      },
      "execution_count": 38,
      "outputs": []
    },
    {
      "cell_type": "code",
      "source": [
        "def remove_accented_chars(x):\n",
        "    x = unicodedata.normalize('NFKD', x).encode('ascii', 'ignore').decode('utf-8', 'ignore')\n",
        "    return x"
      ],
      "metadata": {
        "id": "mgI9pofnAFl9"
      },
      "execution_count": 39,
      "outputs": []
    },
    {
      "cell_type": "code",
      "source": [
        "df['description'] = df['description'].apply(lambda x: remove_accented_chars(x))"
      ],
      "metadata": {
        "id": "Y9kzUnFV_5XW"
      },
      "execution_count": 41,
      "outputs": []
    },
    {
      "cell_type": "code",
      "source": [
        "df['description'].sample(3)"
      ],
      "metadata": {
        "colab": {
          "base_uri": "https://localhost:8080/"
        },
        "id": "dDbeycpE_-k4",
        "outputId": "02d2db82-bb9b-452c-8f13-2b578620e9ac"
      },
      "execution_count": 42,
      "outputs": [
        {
          "output_type": "execute_result",
          "data": {
            "text/plain": [
              "118    dzis obchodzimy magiczne swieto swiata porzadk...\n",
              "159    doskonay paszcz w genialnym kolorze hexeline 1...\n",
              "613    drogie dziewczyny z okazji mikoajek na haso an...\n",
              "Name: description, dtype: object"
            ]
          },
          "metadata": {},
          "execution_count": 42
        }
      ]
    }
  ]
}